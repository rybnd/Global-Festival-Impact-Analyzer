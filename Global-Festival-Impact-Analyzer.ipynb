# 1. Setup & Imports
import pandas as pd
import numpy as np
import matplotlib.pyplot as plt
import seaborn as sns
import nltk
from nltk.sentiment import SentimentIntensityAnalyzer
from wordcloud import WordCloud
import re
import os

nltk.download('vader_lexicon')

# 2. Data Loading & Exploration
df = pd.read_csv(r'IndianFinancialNews.csv')
print("Dataset shape:", df.shape)
df.info()
print(df.head())

# 3. Data Cleaning & Preprocessing
df = df.dropna(subset=['Description']).copy()
df['Date'] = pd.to_datetime(df['Date'], errors='coerce')
df = df.dropna(subset=['Date']).copy()
df = df.sort_values('Date').copy()
df['clean_text'] = df['Description'].astype(str).str.lower()

# 4. Festival Mention Extraction
festivals = [
    'diwali', 'holi', 'eid', 'navratri', 'christmas', 'pongal', 'dussehra',
    'raksha bandhan', 'lohri', 'onam', 'baisakhi', 'ganesh chaturthi'
]

def extract_festivals(text):
    return [f for f in festivals if f in text] or np.nan

df['festivals_mentioned'] = df['clean_text'].apply(extract_festivals)
festival_df = df.dropna(subset=['festivals_mentioned']).copy()
festival_df = festival_df.explode('festivals_mentioned').copy()

# 5. Sentiment Analysis
sia = SentimentIntensityAnalyzer()

def get_sentiment(text):
    return sia.polarity_scores(str(text))['compound']

festival_df['sentiment_score'] = festival_df['Description'].apply(get_sentiment)

festival_df['sentiment_label'] = festival_df['sentiment_score'].apply(
    lambda x: 'positive' if x > 0.05 else ('negative' if x < -0.05 else 'neutral')
)

# 6. Trend & Impact Visualization

# Mentions over time
plt.figure(figsize=(12,6))
festival_counts = festival_df.groupby([festival_df['Date'].dt.year, 'festivals_mentioned']).size().unstack(fill_value=0)
festival_counts.plot(kind='bar', stacked=True, figsize=(15,7))
plt.title('Festival Mentions in News Articles by Year')
plt.xlabel('Year')
plt.ylabel('Number of Mentions')
plt.tight_layout()
plt.show()

# Sentiment trend by festival
plt.figure(figsize=(10,6))
# Use groupby to avoid FutureWarning with estimator
sentiment_trend = festival_df.groupby([festival_df['Date'].dt.year, 'festivals_mentioned'])['sentiment_score'].mean().reset_index()
sns.lineplot(
    data=sentiment_trend,
    x='Date',
    y='sentiment_score',
    hue='festivals_mentioned'
)
plt.title('Sentiment Score Trend by Festival (Yearly Avg)')
plt.xlabel('Year')
plt.ylabel('Avg Sentiment Score')
plt.tight_layout()
plt.show()

# 7. Export Data for Tableau/Power BI
festival_df.to_csv('../reports/festival_impact_analysis.csv', index=False)
print('Exported to ../reports/festival_impact_analysis.csv')

# 8. Word Cloud for Festival Articles
all_festival_text = ' '.join(festival_df['clean_text'].astype(str))
wordcloud = WordCloud(width=800, height=400, background_color='white').generate(all_festival_text)
plt.figure(figsize=(15, 7))
plt.imshow(wordcloud, interpolation='bilinear')
plt.axis('off')
plt.title('Word Cloud for Festival-related News Articles')
plt.show()
